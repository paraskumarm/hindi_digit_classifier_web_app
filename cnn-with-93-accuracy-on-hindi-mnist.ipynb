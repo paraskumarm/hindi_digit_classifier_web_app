{
 "cells": [
  {
   "cell_type": "markdown",
   "id": "97136881",
   "metadata": {
    "papermill": {
     "duration": 0.00894,
     "end_time": "2022-08-22T14:21:23.250582",
     "exception": false,
     "start_time": "2022-08-22T14:21:23.241642",
     "status": "completed"
    },
    "tags": []
   },
   "source": [
    "# Importing the data"
   ]
  },
  {
   "cell_type": "code",
   "execution_count": 1,
   "id": "aef6b326",
   "metadata": {
    "_cell_guid": "b1076dfc-b9ad-4769-8c92-a6c4dae69d19",
    "_uuid": "8f2839f25d086af736a60e9eeb907d3b93b6e0e5",
    "execution": {
     "iopub.execute_input": "2022-08-22T14:21:23.268046Z",
     "iopub.status.busy": "2022-08-22T14:21:23.267311Z",
     "iopub.status.idle": "2022-08-22T14:21:23.278451Z",
     "shell.execute_reply": "2022-08-22T14:21:23.277631Z"
    },
    "papermill": {
     "duration": 0.022169,
     "end_time": "2022-08-22T14:21:23.280502",
     "exception": false,
     "start_time": "2022-08-22T14:21:23.258333",
     "status": "completed"
    },
    "tags": []
   },
   "outputs": [],
   "source": [
    "    # This Python 3 environment comes with many helpful analytics libraries installed\n",
    "# It is defined by the kaggle/python Docker image: https://github.com/kaggle/docker-python\n",
    "# For example, here's several helpful packages to load\n",
    "\n",
    "import numpy as np # linear algebra\n",
    "import pandas as pd # data processing, CSV file I/O (e.g. pd.read_csv)\n",
    "\n",
    "# Input data files are available in the read-only \"../input/\" directory\n",
    "# For example, running this (by clicking run or pressing Shift+Enter) will list all files under the input directory\n",
    "\n",
    "import os\n",
    "# for dirname, _, filenames in os.walk('/kaggle/input'):\n",
    "#     for filename in filenames:\n",
    "#         print(os.path.join(dirname, filename))\n",
    "\n",
    "# You can write up to 20GB to the current directory (/kaggle/working/) that gets preserved as output when you create a version using \"Save & Run All\" \n",
    "# You can also write temporary files to /kaggle/temp/, but they won't be saved outside of the current session"
   ]
  },
  {
   "cell_type": "code",
   "execution_count": 2,
   "id": "cb18e0f6",
   "metadata": {
    "execution": {
     "iopub.execute_input": "2022-08-22T14:21:23.296992Z",
     "iopub.status.busy": "2022-08-22T14:21:23.296210Z",
     "iopub.status.idle": "2022-08-22T14:21:24.214312Z",
     "shell.execute_reply": "2022-08-22T14:21:24.213327Z"
    },
    "papermill": {
     "duration": 0.92862,
     "end_time": "2022-08-22T14:21:24.216780",
     "exception": false,
     "start_time": "2022-08-22T14:21:23.288160",
     "status": "completed"
    },
    "tags": []
   },
   "outputs": [],
   "source": [
    "# importing some essential libraries\n",
    "import seaborn as sns\n",
    "import matplotlib.pyplot as plt\n",
    "from matplotlib.image import imread"
   ]
  },
  {
   "cell_type": "code",
   "execution_count": 6,
   "id": "24028c1d",
   "metadata": {
    "execution": {
     "iopub.execute_input": "2022-08-22T14:21:24.233017Z",
     "iopub.status.busy": "2022-08-22T14:21:24.232711Z",
     "iopub.status.idle": "2022-08-22T14:21:24.250938Z",
     "shell.execute_reply": "2022-08-22T14:21:24.250094Z"
    },
    "papermill": {
     "duration": 0.028581,
     "end_time": "2022-08-22T14:21:24.253047",
     "exception": false,
     "start_time": "2022-08-22T14:21:24.224466",
     "status": "completed"
    },
    "tags": []
   },
   "outputs": [
    {
     "data": {
      "text/plain": [
       "['test', 'train']"
      ]
     },
     "execution_count": 6,
     "metadata": {},
     "output_type": "execute_result"
    }
   ],
   "source": [
    "my_data_dir = 'Hindi-MNIST'\n",
    "os.listdir(my_data_dir) "
   ]
  },
  {
   "cell_type": "code",
   "execution_count": 7,
   "id": "8a03008b",
   "metadata": {
    "execution": {
     "iopub.execute_input": "2022-08-22T14:21:24.269376Z",
     "iopub.status.busy": "2022-08-22T14:21:24.269080Z",
     "iopub.status.idle": "2022-08-22T14:21:24.272791Z",
     "shell.execute_reply": "2022-08-22T14:21:24.271909Z"
    },
    "papermill": {
     "duration": 0.014225,
     "end_time": "2022-08-22T14:21:24.274844",
     "exception": false,
     "start_time": "2022-08-22T14:21:24.260619",
     "status": "completed"
    },
    "tags": []
   },
   "outputs": [],
   "source": [
    "test_path = my_data_dir+'/test/'\n",
    "train_path = my_data_dir+'/train/'"
   ]
  },
  {
   "cell_type": "code",
   "execution_count": 8,
   "id": "81d14476",
   "metadata": {
    "execution": {
     "iopub.execute_input": "2022-08-22T14:21:24.290998Z",
     "iopub.status.busy": "2022-08-22T14:21:24.290727Z",
     "iopub.status.idle": "2022-08-22T14:21:24.301798Z",
     "shell.execute_reply": "2022-08-22T14:21:24.300870Z"
    },
    "papermill": {
     "duration": 0.021621,
     "end_time": "2022-08-22T14:21:24.303742",
     "exception": false,
     "start_time": "2022-08-22T14:21:24.282121",
     "status": "completed"
    },
    "tags": []
   },
   "outputs": [
    {
     "data": {
      "text/plain": [
       "['9', '0', '7', '6', '1', '8', '4', '3', '2', '5']"
      ]
     },
     "execution_count": 8,
     "metadata": {},
     "output_type": "execute_result"
    }
   ],
   "source": [
    "os.listdir(test_path)"
   ]
  },
  {
   "cell_type": "code",
   "execution_count": 9,
   "id": "f947fe1e",
   "metadata": {
    "execution": {
     "iopub.execute_input": "2022-08-22T14:21:24.320338Z",
     "iopub.status.busy": "2022-08-22T14:21:24.319728Z",
     "iopub.status.idle": "2022-08-22T14:21:24.335911Z",
     "shell.execute_reply": "2022-08-22T14:21:24.332067Z"
    },
    "papermill": {
     "duration": 0.027418,
     "end_time": "2022-08-22T14:21:24.338800",
     "exception": false,
     "start_time": "2022-08-22T14:21:24.311382",
     "status": "completed"
    },
    "tags": []
   },
   "outputs": [
    {
     "data": {
      "text/plain": [
       "['9', '0', '7', '6', '1', '8', '4', '3', '2', '5']"
      ]
     },
     "execution_count": 9,
     "metadata": {},
     "output_type": "execute_result"
    }
   ],
   "source": [
    "os.listdir(train_path)"
   ]
  },
  {
   "cell_type": "code",
   "execution_count": 10,
   "id": "326c93f6",
   "metadata": {
    "execution": {
     "iopub.execute_input": "2022-08-22T14:21:24.369264Z",
     "iopub.status.busy": "2022-08-22T14:21:24.368872Z",
     "iopub.status.idle": "2022-08-22T14:21:25.415149Z",
     "shell.execute_reply": "2022-08-22T14:21:25.414008Z"
    },
    "papermill": {
     "duration": 1.06403,
     "end_time": "2022-08-22T14:21:25.417396",
     "exception": false,
     "start_time": "2022-08-22T14:21:24.353366",
     "status": "completed"
    },
    "tags": []
   },
   "outputs": [
    {
     "data": {
      "text/plain": [
       "<matplotlib.image.AxesImage at 0x7fddcf14bc10>"
      ]
     },
     "execution_count": 10,
     "metadata": {},
     "output_type": "execute_result"
    },
    {
     "data": {
      "image/png": "[encoded data removed]",
      "text/plain": [
       "<Figure size 432x288 with 1 Axes>"
      ]
     },
     "metadata": {
      "needs_background": "light"
     },
     "output_type": "display_data"
    }
   ],
   "source": [
    "sample_path= train_path+'/4/'+ os.listdir(train_path+'/4')[0]\n",
    "sample_img=imread(sample_path)\n",
    "plt.imshow(sample_img)"
   ]
  },
  {
   "cell_type": "code",
   "execution_count": 11,
   "id": "0f3cebc0",
   "metadata": {
    "execution": {
     "iopub.execute_input": "2022-08-22T14:21:25.435588Z",
     "iopub.status.busy": "2022-08-22T14:21:25.435271Z",
     "iopub.status.idle": "2022-08-22T14:21:25.441098Z",
     "shell.execute_reply": "2022-08-22T14:21:25.440164Z"
    },
    "papermill": {
     "duration": 0.016913,
     "end_time": "2022-08-22T14:21:25.443094",
     "exception": false,
     "start_time": "2022-08-22T14:21:25.426181",
     "status": "completed"
    },
    "tags": []
   },
   "outputs": [
    {
     "data": {
      "text/plain": [
       "(32, 32)"
      ]
     },
     "execution_count": 11,
     "metadata": {},
     "output_type": "execute_result"
    }
   ],
   "source": [
    "sample_img.shape"
   ]
  },
  {
   "cell_type": "markdown",
   "id": "b90170c4",
   "metadata": {
    "papermill": {
     "duration": 0.007803,
     "end_time": "2022-08-22T14:21:25.458982",
     "exception": false,
     "start_time": "2022-08-22T14:21:25.451179",
     "status": "completed"
    },
    "tags": []
   },
   "source": [
    "#### Let's check how many images there are and what their dimensions are"
   ]
  },
  {
   "cell_type": "code",
   "execution_count": 12,
   "id": "6d0b8f38",
   "metadata": {
    "execution": {
     "iopub.execute_input": "2022-08-22T14:21:25.476199Z",
     "iopub.status.busy": "2022-08-22T14:21:25.475925Z",
     "iopub.status.idle": "2022-08-22T14:21:32.122271Z",
     "shell.execute_reply": "2022-08-22T14:21:32.120179Z"
    },
    "papermill": {
     "duration": 6.658205,
     "end_time": "2022-08-22T14:21:32.125182",
     "exception": false,
     "start_time": "2022-08-22T14:21:25.466977",
     "status": "completed"
    },
    "tags": []
   },
   "outputs": [
    {
     "name": "stdout",
     "output_type": "stream",
     "text": [
      "Total images in 0 : 1700\n",
      "Dimension of images in 0 : (32, 32)\n",
      "Total images in 1 : 1700\n",
      "Dimension of images in 1 : (32, 32)\n",
      "Total images in 2 : 1700\n",
      "Dimension of images in 2 : (32, 32)\n",
      "Total images in 3 : 1700\n",
      "Dimension of images in 3 : (32, 32)\n",
      "Total images in 4 : 1700\n",
      "Dimension of images in 4 : (32, 32)\n",
      "Total images in 5 : 1700\n",
      "Dimension of images in 5 : (32, 32)\n",
      "Total images in 6 : 1700\n",
      "Dimension of images in 6 : (32, 32)\n",
      "Total images in 7 : 1700\n",
      "Dimension of images in 7 : (32, 32)\n",
      "Total images in 8 : 1700\n",
      "Dimension of images in 8 : (32, 32)\n",
      "Total images in 9 : 1700\n",
      "Dimension of images in 9 : (32, 32)\n"
     ]
    }
   ],
   "source": [
    "# for train data\n",
    "for i in range (10):\n",
    "    print('Total images in '+str(i)+' : '+str(len(os.listdir(train_path+str(i)))))\n",
    "    print('Dimension of images in '+str(i)+\" : \" + str(imread(train_path+'/'+str(i)+'/'+ os.listdir(train_path+'/'+str(i)+'/')[0]).shape) )"
   ]
  },
  {
   "cell_type": "code",
   "execution_count": 13,
   "id": "9413fdb5",
   "metadata": {
    "execution": {
     "iopub.execute_input": "2022-08-22T14:21:32.145344Z",
     "iopub.status.busy": "2022-08-22T14:21:32.144980Z",
     "iopub.status.idle": "2022-08-22T14:21:34.025395Z",
     "shell.execute_reply": "2022-08-22T14:21:34.023809Z"
    },
    "papermill": {
     "duration": 1.894173,
     "end_time": "2022-08-22T14:21:34.028558",
     "exception": false,
     "start_time": "2022-08-22T14:21:32.134385",
     "status": "completed"
    },
    "tags": []
   },
   "outputs": [
    {
     "name": "stdout",
     "output_type": "stream",
     "text": [
      "Total images in 0 : 300\n",
      "Dimension of images in 0 : (32, 32)\n",
      "Total images in 1 : 300\n",
      "Dimension of images in 1 : (32, 32)\n",
      "Total images in 2 : 300\n",
      "Dimension of images in 2 : (32, 32)\n",
      "Total images in 3 : 300\n",
      "Dimension of images in 3 : (32, 32)\n",
      "Total images in 4 : 300\n",
      "Dimension of images in 4 : (32, 32)\n",
      "Total images in 5 : 300\n",
      "Dimension of images in 5 : (32, 32)\n",
      "Total images in 6 : 300\n",
      "Dimension of images in 6 : (32, 32)\n",
      "Total images in 7 : 300\n",
      "Dimension of images in 7 : (32, 32)\n",
      "Total images in 8 : 300\n",
      "Dimension of images in 8 : (32, 32)\n",
      "Total images in 9 : 300\n",
      "Dimension of images in 9 : (32, 32)\n"
     ]
    }
   ],
   "source": [
    "# for test data\n",
    "for i in range (10):\n",
    "    print('Total images in '+str(i)+' : '+str(len(os.listdir(test_path+str(i)))))\n",
    "    print('Dimension of images in '+str(i)+\" : \" + str(imread(test_path+'/'+str(i)+'/'+ os.listdir(test_path+'/'+str(i)+'/')[0]).shape) )"
   ]
  },
  {
   "cell_type": "markdown",
   "id": "c804f9e6",
   "metadata": {
    "papermill": {
     "duration": 0.008737,
     "end_time": "2022-08-22T14:21:34.046732",
     "exception": false,
     "start_time": "2022-08-22T14:21:34.037995",
     "status": "completed"
    },
    "tags": []
   },
   "source": [
    "# Preparing the Data"
   ]
  },
  {
   "cell_type": "code",
   "execution_count": 14,
   "id": "08112c35",
   "metadata": {
    "execution": {
     "iopub.execute_input": "2022-08-22T14:21:34.065584Z",
     "iopub.status.busy": "2022-08-22T14:21:34.065257Z",
     "iopub.status.idle": "2022-08-22T14:21:39.010983Z",
     "shell.execute_reply": "2022-08-22T14:21:39.009996Z"
    },
    "papermill": {
     "duration": 4.958146,
     "end_time": "2022-08-22T14:21:39.013573",
     "exception": false,
     "start_time": "2022-08-22T14:21:34.055427",
     "status": "completed"
    },
    "tags": []
   },
   "outputs": [],
   "source": [
    "from tensorflow.keras.preprocessing.image import ImageDataGenerator"
   ]
  },
  {
   "cell_type": "code",
   "execution_count": 15,
   "id": "8d102dda",
   "metadata": {
    "execution": {
     "iopub.execute_input": "2022-08-22T14:21:39.033848Z",
     "iopub.status.busy": "2022-08-22T14:21:39.032693Z",
     "iopub.status.idle": "2022-08-22T14:21:39.038974Z",
     "shell.execute_reply": "2022-08-22T14:21:39.038076Z"
    },
    "papermill": {
     "duration": 0.018155,
     "end_time": "2022-08-22T14:21:39.040919",
     "exception": false,
     "start_time": "2022-08-22T14:21:39.022764",
     "status": "completed"
    },
    "tags": []
   },
   "outputs": [],
   "source": [
    "image_gen = ImageDataGenerator(rotation_range=20, # rotate the image 20 degrees\n",
    "                               width_shift_range=0.10, # Shift the pic width by a max of 5%\n",
    "                               height_shift_range=0.10, # Shift the pic height by a max of 5%\n",
    "                               rescale=1/255, # Rescale the image by normalzing it.\n",
    "                               shear_range=0.1, # Shear means cutting away part of the image (max 10%)\n",
    "                               zoom_range=0.1, # Zoom in by 10% max\n",
    "                               horizontal_flip=True, # Allo horizontal flipping\n",
    "                               fill_mode='nearest' # Fill in missing pixels with the nearest filled value\n",
    "                              )"
   ]
  },
  {
   "cell_type": "code",
   "execution_count": 16,
   "id": "b83d8aa6",
   "metadata": {
    "execution": {
     "iopub.execute_input": "2022-08-22T14:21:39.060033Z",
     "iopub.status.busy": "2022-08-22T14:21:39.059777Z",
     "iopub.status.idle": "2022-08-22T14:21:39.242997Z",
     "shell.execute_reply": "2022-08-22T14:21:39.241997Z"
    },
    "papermill": {
     "duration": 0.194995,
     "end_time": "2022-08-22T14:21:39.245243",
     "exception": false,
     "start_time": "2022-08-22T14:21:39.050248",
     "status": "completed"
    },
    "tags": []
   },
   "outputs": [
    {
     "data": {
      "text/plain": [
       "<matplotlib.image.AxesImage at 0x7fddd63be3a0>"
      ]
     },
     "execution_count": 16,
     "metadata": {},
     "output_type": "execute_result"
    },
    {
     "data": {
      "image/png": "[encoded data removed]",
      "text/plain": [
       "<Figure size 432x288 with 1 Axes>"
      ]
     },
     "metadata": {
      "needs_background": "light"
     },
     "output_type": "display_data"
    }
   ],
   "source": [
    "plt.imshow(sample_img)"
   ]
  },
  {
   "cell_type": "code",
   "execution_count": 17,
   "id": "b66da4d8",
   "metadata": {
    "execution": {
     "iopub.execute_input": "2022-08-22T14:21:39.265344Z",
     "iopub.status.busy": "2022-08-22T14:21:39.264460Z",
     "iopub.status.idle": "2022-08-22T14:21:39.447868Z",
     "shell.execute_reply": "2022-08-22T14:21:39.447013Z"
    },
    "papermill": {
     "duration": 0.195496,
     "end_time": "2022-08-22T14:21:39.450038",
     "exception": false,
     "start_time": "2022-08-22T14:21:39.254542",
     "status": "completed"
    },
    "tags": []
   },
   "outputs": [
    {
     "data": {
      "text/plain": [
       "<matplotlib.image.AxesImage at 0x7fddd642ce20>"
      ]
     },
     "execution_count": 17,
     "metadata": {},
     "output_type": "execute_result"
    },
    {
     "data": {
      "image/png": "[encoded data removed]",
      "text/plain": [
       "<Figure size 432x288 with 1 Axes>"
      ]
     },
     "metadata": {
      "needs_background": "light"
     },
     "output_type": "display_data"
    }
   ],
   "source": [
    "plt.imshow(image_gen.random_transform(np.expand_dims(sample_img,axis=2)))"
   ]
  },
  {
   "cell_type": "code",
   "execution_count": 18,
   "id": "97e969aa",
   "metadata": {
    "execution": {
     "iopub.execute_input": "2022-08-22T14:21:39.470129Z",
     "iopub.status.busy": "2022-08-22T14:21:39.469842Z",
     "iopub.status.idle": "2022-08-22T14:21:59.986647Z",
     "shell.execute_reply": "2022-08-22T14:21:59.985174Z"
    },
    "papermill": {
     "duration": 20.529721,
     "end_time": "2022-08-22T14:21:59.989210",
     "exception": false,
     "start_time": "2022-08-22T14:21:39.459489",
     "status": "completed"
    },
    "tags": []
   },
   "outputs": [
    {
     "name": "stdout",
     "output_type": "stream",
     "text": [
      "Found 17000 images belonging to 10 classes.\n"
     ]
    },
    {
     "data": {
      "text/plain": [
       "<keras.preprocessing.image.DirectoryIterator at 0x7fddd6471370>"
      ]
     },
     "execution_count": 18,
     "metadata": {},
     "output_type": "execute_result"
    }
   ],
   "source": [
    "image_gen.flow_from_directory(train_path)"
   ]
  },
  {
   "cell_type": "code",
   "execution_count": 19,
   "id": "957b1d85",
   "metadata": {
    "execution": {
     "iopub.execute_input": "2022-08-22T14:22:00.011150Z",
     "iopub.status.busy": "2022-08-22T14:22:00.010056Z",
     "iopub.status.idle": "2022-08-22T14:22:00.230656Z",
     "shell.execute_reply": "2022-08-22T14:22:00.229808Z"
    },
    "papermill": {
     "duration": 0.233124,
     "end_time": "2022-08-22T14:22:00.232597",
     "exception": false,
     "start_time": "2022-08-22T14:21:59.999473",
     "status": "completed"
    },
    "tags": []
   },
   "outputs": [
    {
     "name": "stdout",
     "output_type": "stream",
     "text": [
      "Found 3000 images belonging to 10 classes.\n"
     ]
    },
    {
     "data": {
      "text/plain": [
       "<keras.preprocessing.image.DirectoryIterator at 0x7fddd6495130>"
      ]
     },
     "execution_count": 19,
     "metadata": {},
     "output_type": "execute_result"
    }
   ],
   "source": [
    "image_gen.flow_from_directory(test_path)"
   ]
  },
  {
   "cell_type": "markdown",
   "id": "f48048c8",
   "metadata": {
    "papermill": {
     "duration": 0.010107,
     "end_time": "2022-08-22T14:22:00.252821",
     "exception": false,
     "start_time": "2022-08-22T14:22:00.242714",
     "status": "completed"
    },
    "tags": []
   },
   "source": [
    "# Creating the Model"
   ]
  },
  {
   "cell_type": "code",
   "execution_count": 20,
   "id": "d7df4573",
   "metadata": {
    "execution": {
     "iopub.execute_input": "2022-08-22T14:22:00.275189Z",
     "iopub.status.busy": "2022-08-22T14:22:00.273555Z",
     "iopub.status.idle": "2022-08-22T14:22:00.280222Z",
     "shell.execute_reply": "2022-08-22T14:22:00.279369Z"
    },
    "papermill": {
     "duration": 0.019352,
     "end_time": "2022-08-22T14:22:00.282249",
     "exception": false,
     "start_time": "2022-08-22T14:22:00.262897",
     "status": "completed"
    },
    "tags": []
   },
   "outputs": [],
   "source": [
    "from tensorflow.keras.models import Sequential\n",
    "from tensorflow.keras.layers import Activation, Dropout, Flatten, Dense, Conv2D, MaxPooling2D"
   ]
  },
  {
   "cell_type": "code",
   "execution_count": 21,
   "id": "fc746a82",
   "metadata": {
    "execution": {
     "iopub.execute_input": "2022-08-22T14:22:00.303580Z",
     "iopub.status.busy": "2022-08-22T14:22:00.302531Z",
     "iopub.status.idle": "2022-08-22T14:22:03.061278Z",
     "shell.execute_reply": "2022-08-22T14:22:03.060288Z"
    },
    "papermill": {
     "duration": 2.771974,
     "end_time": "2022-08-22T14:22:03.063984",
     "exception": false,
     "start_time": "2022-08-22T14:22:00.292010",
     "status": "completed"
    },
    "tags": []
   },
   "outputs": [
    {
     "name": "stderr",
     "output_type": "stream",
     "text": [
      "2023-08-16 12:51:26.796753: I tensorflow/core/platform/cpu_feature_guard.cc:193] This TensorFlow binary is optimized with oneAPI Deep Neural Network Library (oneDNN) to use the following CPU instructions in performance-critical operations:  SSE4.1 SSE4.2 AVX AVX2 AVX512F AVX512_VNNI FMA\n",
      "To enable them in other operations, rebuild TensorFlow with the appropriate compiler flags.\n"
     ]
    }
   ],
   "source": [
    "image_shape=(32,32,1)\n",
    "model= Sequential()\n",
    "model.add(Conv2D(filters=32, kernel_size=(3,3),input_shape=image_shape, activation='relu',))\n",
    "model.add(MaxPooling2D(pool_size=(2, 2)))\n",
    "\n",
    "model.add(Conv2D(filters=64, kernel_size=(3,3),input_shape=image_shape, activation='relu',))\n",
    "model.add(MaxPooling2D(pool_size=(2, 2)))\n",
    "\n",
    "model.add(Conv2D(filters=64, kernel_size=(3,3),input_shape=image_shape, activation='relu',))\n",
    "model.add(MaxPooling2D(pool_size=(2, 2)))\n",
    "\n",
    "\n",
    "model.add(Flatten())\n",
    "\n",
    "\n",
    "model.add(Dense(128))\n",
    "model.add(Activation('relu'))\n",
    "\n",
    "# Dropouts help reduce overfitting by randomly turning neurons off during training.\n",
    "# Here we say randomly turn off 50% of neurons.\n",
    "model.add(Dropout(0.5))\n",
    "\n",
    "# Last layer, remember its multi-class classification so we use sigmoid\n",
    "model.add(Dense(10))\n",
    "model.add(Activation('softmax'))\n",
    "\n",
    "model.compile(loss='categorical_crossentropy',\n",
    "              optimizer='adam',\n",
    "              metrics=['accuracy'])"
   ]
  },
  {
   "cell_type": "code",
   "execution_count": 22,
   "id": "f1ff820c",
   "metadata": {
    "execution": {
     "iopub.execute_input": "2022-08-22T14:22:03.085527Z",
     "iopub.status.busy": "2022-08-22T14:22:03.085032Z",
     "iopub.status.idle": "2022-08-22T14:22:03.091687Z",
     "shell.execute_reply": "2022-08-22T14:22:03.090769Z"
    },
    "papermill": {
     "duration": 0.020297,
     "end_time": "2022-08-22T14:22:03.094293",
     "exception": false,
     "start_time": "2022-08-22T14:22:03.073996",
     "status": "completed"
    },
    "tags": []
   },
   "outputs": [
    {
     "name": "stdout",
     "output_type": "stream",
     "text": [
      "Model: \"sequential\"\n",
      "_________________________________________________________________\n",
      " Layer (type)                Output Shape              Param #   \n",
      "=================================================================\n",
      " conv2d (Conv2D)             (None, 30, 30, 32)        320       \n",
      "                                                                 \n",
      " max_pooling2d (MaxPooling2D  (None, 15, 15, 32)       0         \n",
      " )                                                               \n",
      "                                                                 \n",
      " conv2d_1 (Conv2D)           (None, 13, 13, 64)        18496     \n",
      "                                                                 \n",
      " max_pooling2d_1 (MaxPooling  (None, 6, 6, 64)         0         \n",
      " 2D)                                                             \n",
      "                                                                 \n",
      " conv2d_2 (Conv2D)           (None, 4, 4, 64)          36928     \n",
      "                                                                 \n",
      " max_pooling2d_2 (MaxPooling  (None, 2, 2, 64)         0         \n",
      " 2D)                                                             \n",
      "                                                                 \n",
      " flatten (Flatten)           (None, 256)               0         \n",
      "                                                                 \n",
      " dense (Dense)               (None, 128)               32896     \n",
      "                                                                 \n",
      " activation (Activation)     (None, 128)               0         \n",
      "                                                                 \n",
      " dropout (Dropout)           (None, 128)               0         \n",
      "                                                                 \n",
      " dense_1 (Dense)             (None, 10)                1290      \n",
      "                                                                 \n",
      " activation_1 (Activation)   (None, 10)                0         \n",
      "                                                                 \n",
      "=================================================================\n",
      "Total params: 89,930\n",
      "Trainable params: 89,930\n",
      "Non-trainable params: 0\n",
      "_________________________________________________________________\n"
     ]
    }
   ],
   "source": [
    "model.summary()"
   ]
  },
  {
   "cell_type": "markdown",
   "id": "15eb8b3a",
   "metadata": {
    "papermill": {
     "duration": 0.00972,
     "end_time": "2022-08-22T14:22:03.114024",
     "exception": false,
     "start_time": "2022-08-22T14:22:03.104304",
     "status": "completed"
    },
    "tags": []
   },
   "source": [
    "# Early Stopping"
   ]
  },
  {
   "cell_type": "code",
   "execution_count": 23,
   "id": "03f93117",
   "metadata": {
    "execution": {
     "iopub.execute_input": "2022-08-22T14:22:03.136599Z",
     "iopub.status.busy": "2022-08-22T14:22:03.134798Z",
     "iopub.status.idle": "2022-08-22T14:22:03.140963Z",
     "shell.execute_reply": "2022-08-22T14:22:03.140144Z"
    },
    "papermill": {
     "duration": 0.01907,
     "end_time": "2022-08-22T14:22:03.143153",
     "exception": false,
     "start_time": "2022-08-22T14:22:03.124083",
     "status": "completed"
    },
    "tags": []
   },
   "outputs": [],
   "source": [
    "from tensorflow.keras.callbacks import EarlyStopping\n",
    "early_stop = EarlyStopping(patience=2, monitor='val_loss')"
   ]
  },
  {
   "cell_type": "markdown",
   "id": "5c2f820d",
   "metadata": {
    "papermill": {
     "duration": 0.009965,
     "end_time": "2022-08-22T14:22:03.162883",
     "exception": false,
     "start_time": "2022-08-22T14:22:03.152918",
     "status": "completed"
    },
    "tags": []
   },
   "source": [
    "# Training the Model"
   ]
  },
  {
   "cell_type": "code",
   "execution_count": 24,
   "id": "c82b293b",
   "metadata": {
    "execution": {
     "iopub.execute_input": "2022-08-22T14:22:03.184186Z",
     "iopub.status.busy": "2022-08-22T14:22:03.183907Z",
     "iopub.status.idle": "2022-08-22T14:22:06.289121Z",
     "shell.execute_reply": "2022-08-22T14:22:06.287583Z"
    },
    "papermill": {
     "duration": 3.118597,
     "end_time": "2022-08-22T14:22:06.291578",
     "exception": false,
     "start_time": "2022-08-22T14:22:03.172981",
     "status": "completed"
    },
    "tags": []
   },
   "outputs": [
    {
     "name": "stdout",
     "output_type": "stream",
     "text": [
      "Found 17000 images belonging to 10 classes.\n"
     ]
    }
   ],
   "source": [
    "batch_size = 16\n",
    "image_shape=(32,32,1)\n",
    "train_image_gen = image_gen.flow_from_directory(train_path,\n",
    "                                               target_size=image_shape[:2],\n",
    "                                                color_mode='grayscale',\n",
    "                                               batch_size=batch_size,\n",
    "                                               class_mode='categorical')"
   ]
  },
  {
   "cell_type": "code",
   "execution_count": 25,
   "id": "945d13c0",
   "metadata": {
    "execution": {
     "iopub.execute_input": "2022-08-22T14:22:06.313620Z",
     "iopub.status.busy": "2022-08-22T14:22:06.313058Z",
     "iopub.status.idle": "2022-08-22T14:22:06.530607Z",
     "shell.execute_reply": "2022-08-22T14:22:06.529424Z"
    },
    "papermill": {
     "duration": 0.23079,
     "end_time": "2022-08-22T14:22:06.532705",
     "exception": false,
     "start_time": "2022-08-22T14:22:06.301915",
     "status": "completed"
    },
    "tags": []
   },
   "outputs": [
    {
     "name": "stdout",
     "output_type": "stream",
     "text": [
      "Found 3000 images belonging to 10 classes.\n"
     ]
    }
   ],
   "source": [
    "test_image_gen = image_gen.flow_from_directory(test_path,\n",
    "                                               target_size=image_shape[:2],\n",
    "                                               color_mode='grayscale',\n",
    "                                               batch_size=batch_size,\n",
    "                                               class_mode='categorical',shuffle=False)"
   ]
  },
  {
   "cell_type": "code",
   "execution_count": 26,
   "id": "42c5705e",
   "metadata": {
    "execution": {
     "iopub.execute_input": "2022-08-22T14:22:06.554042Z",
     "iopub.status.busy": "2022-08-22T14:22:06.553770Z",
     "iopub.status.idle": "2022-08-22T14:22:06.560263Z",
     "shell.execute_reply": "2022-08-22T14:22:06.559312Z"
    },
    "papermill": {
     "duration": 0.019327,
     "end_time": "2022-08-22T14:22:06.562185",
     "exception": false,
     "start_time": "2022-08-22T14:22:06.542858",
     "status": "completed"
    },
    "tags": []
   },
   "outputs": [
    {
     "data": {
      "text/plain": [
       "{'0': 0,\n",
       " '1': 1,\n",
       " '2': 2,\n",
       " '3': 3,\n",
       " '4': 4,\n",
       " '5': 5,\n",
       " '6': 6,\n",
       " '7': 7,\n",
       " '8': 8,\n",
       " '9': 9}"
      ]
     },
     "execution_count": 26,
     "metadata": {},
     "output_type": "execute_result"
    }
   ],
   "source": [
    "train_image_gen.class_indices"
   ]
  },
  {
   "cell_type": "code",
   "execution_count": 27,
   "id": "0af8d09a",
   "metadata": {
    "execution": {
     "iopub.execute_input": "2022-08-22T14:22:06.583589Z",
     "iopub.status.busy": "2022-08-22T14:22:06.583306Z",
     "iopub.status.idle": "2022-08-22T14:30:35.698084Z",
     "shell.execute_reply": "2022-08-22T14:30:35.697119Z"
    },
    "papermill": {
     "duration": 509.425948,
     "end_time": "2022-08-22T14:30:35.998329",
     "exception": false,
     "start_time": "2022-08-22T14:22:06.572381",
     "status": "completed"
    },
    "tags": []
   },
   "outputs": [
    {
     "name": "stdout",
     "output_type": "stream",
     "text": [
      "Epoch 1/20\n",
      "1063/1063 [==============================] - 38s 35ms/step - loss: 1.0192 - accuracy: 0.6476 - val_loss: 0.4060 - val_accuracy: 0.8717\n",
      "Epoch 2/20\n",
      "1063/1063 [==============================] - 28s 27ms/step - loss: 0.4665 - accuracy: 0.8452 - val_loss: 0.2800 - val_accuracy: 0.9040\n",
      "Epoch 3/20\n",
      "1063/1063 [==============================] - 32s 30ms/step - loss: 0.3513 - accuracy: 0.8846 - val_loss: 0.2502 - val_accuracy: 0.9070\n",
      "Epoch 4/20\n",
      "1063/1063 [==============================] - 35s 32ms/step - loss: 0.2927 - accuracy: 0.9021 - val_loss: 0.2052 - val_accuracy: 0.9377\n",
      "Epoch 5/20\n",
      "1063/1063 [==============================] - 35s 33ms/step - loss: 0.2511 - accuracy: 0.9168 - val_loss: 0.1587 - val_accuracy: 0.9513\n",
      "Epoch 6/20\n",
      "1063/1063 [==============================] - 35s 33ms/step - loss: 0.2312 - accuracy: 0.9246 - val_loss: 0.1300 - val_accuracy: 0.9590\n",
      "Epoch 7/20\n",
      "1063/1063 [==============================] - 55s 52ms/step - loss: 0.2081 - accuracy: 0.9314 - val_loss: 0.1511 - val_accuracy: 0.9470\n",
      "Epoch 8/20\n",
      "1063/1063 [==============================] - 44s 41ms/step - loss: 0.1963 - accuracy: 0.9371 - val_loss: 0.1470 - val_accuracy: 0.9553\n"
     ]
    }
   ],
   "source": [
    "import warnings\n",
    "warnings.filterwarnings('ignore')\n",
    "results = model.fit_generator(train_image_gen,epochs=20,\n",
    "                              validation_data=test_image_gen,\n",
    "                             callbacks=[early_stop])"
   ]
  },
  {
   "cell_type": "markdown",
   "id": "b7c39315",
   "metadata": {
    "papermill": {
     "duration": 0.315853,
     "end_time": "2022-08-22T14:30:36.874124",
     "exception": false,
     "start_time": "2022-08-22T14:30:36.558271",
     "status": "completed"
    },
    "tags": []
   },
   "source": [
    "# Evaluate the Model"
   ]
  },
  {
   "cell_type": "code",
   "execution_count": 25,
   "id": "9b4377c2",
   "metadata": {
    "execution": {
     "iopub.execute_input": "2022-08-22T14:30:37.449981Z",
     "iopub.status.busy": "2022-08-22T14:30:37.449604Z",
     "iopub.status.idle": "2022-08-22T14:30:37.468836Z",
     "shell.execute_reply": "2022-08-22T14:30:37.467716Z"
    },
    "papermill": {
     "duration": 0.310952,
     "end_time": "2022-08-22T14:30:37.471254",
     "exception": false,
     "start_time": "2022-08-22T14:30:37.160302",
     "status": "completed"
    },
    "tags": []
   },
   "outputs": [
    {
     "data": {
      "text/html": [
       "<div>\n",
       "<style scoped>\n",
       "    .dataframe tbody tr th:only-of-type {\n",
       "        vertical-align: middle;\n",
       "    }\n",
       "\n",
       "    .dataframe tbody tr th {\n",
       "        vertical-align: top;\n",
       "    }\n",
       "\n",
       "    .dataframe thead th {\n",
       "        text-align: right;\n",
       "    }\n",
       "</style>\n",
       "<table border=\"1\" class=\"dataframe\">\n",
       "  <thead>\n",
       "    <tr style=\"text-align: right;\">\n",
       "      <th></th>\n",
       "      <th>loss</th>\n",
       "      <th>accuracy</th>\n",
       "      <th>val_loss</th>\n",
       "      <th>val_accuracy</th>\n",
       "    </tr>\n",
       "  </thead>\n",
       "  <tbody>\n",
       "    <tr>\n",
       "      <th>0</th>\n",
       "      <td>0.986384</td>\n",
       "      <td>0.660000</td>\n",
       "      <td>0.388864</td>\n",
       "      <td>0.864000</td>\n",
       "    </tr>\n",
       "    <tr>\n",
       "      <th>1</th>\n",
       "      <td>0.455899</td>\n",
       "      <td>0.844882</td>\n",
       "      <td>0.272579</td>\n",
       "      <td>0.907667</td>\n",
       "    </tr>\n",
       "    <tr>\n",
       "      <th>2</th>\n",
       "      <td>0.338803</td>\n",
       "      <td>0.887706</td>\n",
       "      <td>0.209032</td>\n",
       "      <td>0.934333</td>\n",
       "    </tr>\n",
       "    <tr>\n",
       "      <th>3</th>\n",
       "      <td>0.290055</td>\n",
       "      <td>0.908412</td>\n",
       "      <td>0.185424</td>\n",
       "      <td>0.942000</td>\n",
       "    </tr>\n",
       "    <tr>\n",
       "      <th>4</th>\n",
       "      <td>0.239679</td>\n",
       "      <td>0.920294</td>\n",
       "      <td>0.151393</td>\n",
       "      <td>0.948667</td>\n",
       "    </tr>\n",
       "  </tbody>\n",
       "</table>\n",
       "</div>"
      ],
      "text/plain": [
       "       loss  accuracy  val_loss  val_accuracy\n",
       "0  0.986384  0.660000  0.388864      0.864000\n",
       "1  0.455899  0.844882  0.272579      0.907667\n",
       "2  0.338803  0.887706  0.209032      0.934333\n",
       "3  0.290055  0.908412  0.185424      0.942000\n",
       "4  0.239679  0.920294  0.151393      0.948667"
      ]
     },
     "execution_count": 25,
     "metadata": {},
     "output_type": "execute_result"
    }
   ],
   "source": [
    "model.metrics_names\n",
    "losses = pd.DataFrame(model.history.history)\n",
    "losses.head()"
   ]
  },
  {
   "cell_type": "code",
   "execution_count": 26,
   "id": "ff031a75",
   "metadata": {
    "execution": {
     "iopub.execute_input": "2022-08-22T14:30:38.089462Z",
     "iopub.status.busy": "2022-08-22T14:30:38.089049Z",
     "iopub.status.idle": "2022-08-22T14:30:38.315275Z",
     "shell.execute_reply": "2022-08-22T14:30:38.313492Z"
    },
    "papermill": {
     "duration": 0.560832,
     "end_time": "2022-08-22T14:30:38.318073",
     "exception": false,
     "start_time": "2022-08-22T14:30:37.757241",
     "status": "completed"
    },
    "tags": []
   },
   "outputs": [
    {
     "data": {
      "text/plain": [
       "<AxesSubplot:>"
      ]
     },
     "execution_count": 26,
     "metadata": {},
     "output_type": "execute_result"
    },
    {
     "data": {
      "image/png": "[encoded data removed]",
      "text/plain": [
       "<Figure size 432x288 with 1 Axes>"
      ]
     },
     "metadata": {
      "needs_background": "light"
     },
     "output_type": "display_data"
    }
   ],
   "source": [
    "losses[['accuracy','val_accuracy']].plot()"
   ]
  },
  {
   "cell_type": "code",
   "execution_count": 27,
   "id": "5bd500f0",
   "metadata": {
    "execution": {
     "iopub.execute_input": "2022-08-22T14:30:38.894523Z",
     "iopub.status.busy": "2022-08-22T14:30:38.894172Z",
     "iopub.status.idle": "2022-08-22T14:30:39.089387Z",
     "shell.execute_reply": "2022-08-22T14:30:39.088412Z"
    },
    "papermill": {
     "duration": 0.482529,
     "end_time": "2022-08-22T14:30:39.091599",
     "exception": false,
     "start_time": "2022-08-22T14:30:38.609070",
     "status": "completed"
    },
    "tags": []
   },
   "outputs": [
    {
     "data": {
      "text/plain": [
       "<AxesSubplot:>"
      ]
     },
     "execution_count": 27,
     "metadata": {},
     "output_type": "execute_result"
    },
    {
     "data": {
      "image/png": "[encoded data removed]",
      "text/plain": [
       "<Figure size 432x288 with 1 Axes>"
      ]
     },
     "metadata": {
      "needs_background": "light"
     },
     "output_type": "display_data"
    }
   ],
   "source": [
    "losses[['loss','val_loss']].plot()"
   ]
  },
  {
   "cell_type": "code",
   "execution_count": 28,
   "id": "05de0cf3",
   "metadata": {
    "execution": {
     "iopub.execute_input": "2022-08-22T14:30:39.665685Z",
     "iopub.status.busy": "2022-08-22T14:30:39.665327Z",
     "iopub.status.idle": "2022-08-22T14:30:42.907467Z",
     "shell.execute_reply": "2022-08-22T14:30:42.906247Z"
    },
    "papermill": {
     "duration": 3.532764,
     "end_time": "2022-08-22T14:30:42.910259",
     "exception": false,
     "start_time": "2022-08-22T14:30:39.377495",
     "status": "completed"
    },
    "tags": []
   },
   "outputs": [
    {
     "name": "stdout",
     "output_type": "stream",
     "text": [
      "[0 0 0 ... 9 9 9]\n"
     ]
    }
   ],
   "source": [
    "from tensorflow.keras.preprocessing import image\n",
    "y_pred = np.argmax(model.predict(test_image_gen), axis=-1)\n",
    "# y_pred = np.round(y_pred).astype(int)\n",
    "# pred_probabilities = model.predict_classes(test_image_gen)\n",
    "print(y_pred)"
   ]
  },
  {
   "cell_type": "code",
   "execution_count": 29,
   "id": "6c404fb6",
   "metadata": {
    "execution": {
     "iopub.execute_input": "2022-08-22T14:30:43.530882Z",
     "iopub.status.busy": "2022-08-22T14:30:43.530476Z",
     "iopub.status.idle": "2022-08-22T14:30:43.536855Z",
     "shell.execute_reply": "2022-08-22T14:30:43.535839Z"
    },
    "papermill": {
     "duration": 0.295371,
     "end_time": "2022-08-22T14:30:43.540621",
     "exception": false,
     "start_time": "2022-08-22T14:30:43.245250",
     "status": "completed"
    },
    "tags": []
   },
   "outputs": [
    {
     "data": {
      "text/plain": [
       "3000"
      ]
     },
     "execution_count": 29,
     "metadata": {},
     "output_type": "execute_result"
    }
   ],
   "source": [
    "len(y_pred)"
   ]
  },
  {
   "cell_type": "code",
   "execution_count": 30,
   "id": "39024609",
   "metadata": {
    "execution": {
     "iopub.execute_input": "2022-08-22T14:30:44.127777Z",
     "iopub.status.busy": "2022-08-22T14:30:44.127419Z",
     "iopub.status.idle": "2022-08-22T14:30:44.282733Z",
     "shell.execute_reply": "2022-08-22T14:30:44.280751Z"
    },
    "papermill": {
     "duration": 0.458821,
     "end_time": "2022-08-22T14:30:44.285675",
     "exception": false,
     "start_time": "2022-08-22T14:30:43.826854",
     "status": "completed"
    },
    "tags": []
   },
   "outputs": [
    {
     "name": "stdout",
     "output_type": "stream",
     "text": [
      "              precision    recall  f1-score   support\n",
      "\n",
      "           0       0.97      1.00      0.98       300\n",
      "           1       0.98      0.98      0.98       300\n",
      "           2       0.96      0.96      0.96       300\n",
      "           3       0.99      0.83      0.91       300\n",
      "           4       0.99      0.99      0.99       300\n",
      "           5       0.98      0.97      0.98       300\n",
      "           6       0.86      0.97      0.91       300\n",
      "           7       0.97      0.96      0.97       300\n",
      "           8       0.99      0.99      0.99       300\n",
      "           9       0.96      0.98      0.97       300\n",
      "\n",
      "    accuracy                           0.96      3000\n",
      "   macro avg       0.97      0.96      0.96      3000\n",
      "weighted avg       0.97      0.96      0.96      3000\n",
      "\n"
     ]
    }
   ],
   "source": [
    "from sklearn.metrics import classification_report,confusion_matrix\n",
    "print(classification_report(test_image_gen.classes,y_pred))"
   ]
  },
  {
   "cell_type": "code",
   "execution_count": 31,
   "id": "a7d2ae73",
   "metadata": {
    "execution": {
     "iopub.execute_input": "2022-08-22T14:30:44.862073Z",
     "iopub.status.busy": "2022-08-22T14:30:44.861714Z",
     "iopub.status.idle": "2022-08-22T14:30:45.393138Z",
     "shell.execute_reply": "2022-08-22T14:30:45.392240Z"
    },
    "papermill": {
     "duration": 0.820749,
     "end_time": "2022-08-22T14:30:45.395330",
     "exception": false,
     "start_time": "2022-08-22T14:30:44.574581",
     "status": "completed"
    },
    "tags": []
   },
   "outputs": [
    {
     "data": {
      "text/plain": [
       "<AxesSubplot:>"
      ]
     },
     "execution_count": 31,
     "metadata": {},
     "output_type": "execute_result"
    },
    {
     "data": {
      "image/png": "[encoded data removed]",
      "text/plain": [
       "<Figure size 720x432 with 2 Axes>"
      ]
     },
     "metadata": {
      "needs_background": "light"
     },
     "output_type": "display_data"
    }
   ],
   "source": [
    "import seaborn as sns\n",
    "import matplotlib.pyplot as plt\n",
    "plt.figure(figsize=(10,6))\n",
    "sns.heatmap(confusion_matrix(test_image_gen.classes,y_pred),annot=True)"
   ]
  },
  {
   "cell_type": "markdown",
   "id": "b89a2692",
   "metadata": {
    "papermill": {
     "duration": 0.291367,
     "end_time": "2022-08-22T14:30:46.020174",
     "exception": false,
     "start_time": "2022-08-22T14:30:45.728807",
     "status": "completed"
    },
    "tags": []
   },
   "source": [
    "# Predicting an image"
   ]
  },
  {
   "cell_type": "code",
   "execution_count": 32,
   "id": "ed2ff1ae",
   "metadata": {
    "execution": {
     "iopub.execute_input": "2022-08-22T14:30:46.601299Z",
     "iopub.status.busy": "2022-08-22T14:30:46.600914Z",
     "iopub.status.idle": "2022-08-22T14:30:46.783713Z",
     "shell.execute_reply": "2022-08-22T14:30:46.782846Z"
    },
    "papermill": {
     "duration": 0.474932,
     "end_time": "2022-08-22T14:30:46.785806",
     "exception": false,
     "start_time": "2022-08-22T14:30:46.310874",
     "status": "completed"
    },
    "tags": []
   },
   "outputs": [
    {
     "data": {
      "text/plain": [
       "<matplotlib.image.AxesImage at 0x7fb6d0132250>"
      ]
     },
     "execution_count": 32,
     "metadata": {},
     "output_type": "execute_result"
    },
    {
     "data": {
      "image/png": "[encoded data removed]",
      "text/plain": [
       "<Figure size 432x288 with 1 Axes>"
      ]
     },
     "metadata": {
      "needs_background": "light"
     },
     "output_type": "display_data"
    }
   ],
   "source": [
    "plt.imshow(sample_img)"
   ]
  },
  {
   "cell_type": "code",
   "execution_count": 33,
   "id": "17f9e2e5",
   "metadata": {
    "execution": {
     "iopub.execute_input": "2022-08-22T14:30:47.665182Z",
     "iopub.status.busy": "2022-08-22T14:30:47.663878Z",
     "iopub.status.idle": "2022-08-22T14:30:47.794960Z",
     "shell.execute_reply": "2022-08-22T14:30:47.792417Z"
    },
    "papermill": {
     "duration": 0.583281,
     "end_time": "2022-08-22T14:30:47.797547",
     "exception": false,
     "start_time": "2022-08-22T14:30:47.214266",
     "status": "completed"
    },
    "tags": []
   },
   "outputs": [
    {
     "name": "stdout",
     "output_type": "stream",
     "text": [
      "4\n"
     ]
    }
   ],
   "source": [
    "pred=model.predict(sample_img.reshape(1,32,32,1))\n",
    "pred= np.argmax(pred)\n",
    "print(pred)"
   ]
  },
  {
   "cell_type": "code",
   "execution_count": 29,
   "id": "a1d98e13",
   "metadata": {},
   "outputs": [],
   "source": [
    "import pickle "
   ]
  },
  {
   "cell_type": "code",
   "execution_count": 30,
   "id": "ce9d6dbd",
   "metadata": {},
   "outputs": [
    {
     "name": "stderr",
     "output_type": "stream",
     "text": [
      "WARNING:absl:Found untraced functions such as _jit_compiled_convolution_op, _jit_compiled_convolution_op, _jit_compiled_convolution_op while saving (showing 3 of 3). These functions will not be directly callable after loading.\n"
     ]
    },
    {
     "name": "stdout",
     "output_type": "stream",
     "text": [
      "INFO:tensorflow:Assets written to: ram://81052ebe-4567-4e60-8fe8-e1c482b9d57d/assets\n"
     ]
    },
    {
     "name": "stderr",
     "output_type": "stream",
     "text": [
      "INFO:tensorflow:Assets written to: ram://81052ebe-4567-4e60-8fe8-e1c482b9d57d/assets\n"
     ]
    }
   ],
   "source": [
    "pickle.dump(model,open('model.pickle','wb'))"
   ]
  },
  {
   "cell_type": "code",
   "execution_count": null,
   "id": "349e8a35",
   "metadata": {},
   "outputs": [],
   "source": []
  }
 ],
 "metadata": {
  "kernelspec": {
   "display_name": "Python 3 (ipykernel)",
   "language": "python",
   "name": "python3"
  },
  "language_info": {
   "codemirror_mode": {
    "name": "ipython",
    "version": 3
   },
   "file_extension": ".py",
   "mimetype": "text/x-python",
   "name": "python",
   "nbconvert_exporter": "python",
   "pygments_lexer": "ipython3",
   "version": "3.7.0"
  },
  "papermill": {
   "default_parameters": {},
   "duration": 575.562382,
   "end_time": "2022-08-22T14:30:51.211092",
   "environment_variables": {},
   "exception": null,
   "input_path": "__notebook__.ipynb",
   "output_path": "__notebook__.ipynb",
   "parameters": {},
   "start_time": "2022-08-22T14:21:15.648710",
   "version": "2.3.4"
  }
 },
 "nbformat": 4,
 "nbformat_minor": 5
}
